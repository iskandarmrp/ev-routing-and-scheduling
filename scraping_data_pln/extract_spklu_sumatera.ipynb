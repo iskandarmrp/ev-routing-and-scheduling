{
 "cells": [
  {
   "cell_type": "code",
   "execution_count": null,
   "id": "b492cc7c",
   "metadata": {},
   "outputs": [],
   "source": [
    "import pandas as pd\n",
    "\n",
    "# Path ke file CSV\n",
    "file_path = \"spklu_data_new 3.csv\"\n",
    "\n",
    "# Kata kunci provinsi yang ingin dicari\n",
    "keywords = [\n",
    "    \"Aceh\", \"Sumatera Utara\", \"Sumatera Barat\", \"Riau\", \"Jambi\", \"Bengkulu\",\n",
    "    \"Sumatera Selatan\", \"Lampung\"\n",
    "]\n",
    "\n",
    "# Baca CSV tanpa header, karena baris pertama mungkin corrupt\n",
    "df_no_header = pd.read_csv(file_path, sep=\",\", quotechar='\"', header=None, on_bad_lines='skip', engine='python')\n",
    "\n",
    "# Tetapkan header kolom secara manual\n",
    "df_no_header.columns = [\n",
    "    \"Nama SPKLU\", \"Alamat\", \"Waktu Operasi\", \"Jam Buka\", \"Jarak\",\n",
    "    \"Konektor\", \"Charging Slots\", \"Ketersediaan\", \"Timestamp\"\n",
    "]\n",
    "\n",
    "# Hapus baris pertama karena isinya adalah header asli yang sudah tertangkap sebagai data\n",
    "df_clean_final = df_no_header[1:].copy()\n",
    "\n",
    "# Filter berdasarkan kata kunci provinsi pada kolom Alamat\n",
    "# filtered_final = df_clean_final[df_clean_final['Alamat'].apply(\n",
    "#     lambda x: any(keyword.lower() in str(x).lower() for keyword in keywords)\n",
    "# )]\n",
    "\n",
    "# Simpan hasilnya ke file baru (opsional)\n",
    "df_clean_final.to_csv(\"filtered_spklu_17.csv\", index=False)\n",
    "\n",
    "# Tampilkan hasil (opsional jika ingin lihat langsung)\n",
    "print(df_clean_final)\n"
   ]
  },
  {
   "cell_type": "code",
   "execution_count": null,
   "id": "188db142",
   "metadata": {},
   "outputs": [],
   "source": [
    "import pandas as pd\n",
    "\n",
    "# Baca file dan skip baris error\n",
    "df = pd.read_csv(\"filtered_spklu_17.csv\", engine=\"python\", on_bad_lines=\"skip\")\n",
    "\n",
    "# Provinsi-provinsi Pulau Sumatera (tanpa Kepulauan Riau)\n",
    "sumatera_provinces = [\n",
    "    \"Aceh\", \"Sumatera Utara\", \"Sumatera Barat\", \"Riau\", \"Jambi\", \"Bengkulu\",\n",
    "    \"Sumatera Selatan\", \"Lampung\"\n",
    "]\n",
    "\n",
    "# Include hanya alamat yang memuat provinsi Sumatera\n",
    "include_mask = df[\"Alamat\"].str.contains('|'.join(sumatera_provinces), case=False, na=False)\n",
    "\n",
    "# Eksklusi alamat yang mengandung \"Kepulauan Riau\"\n",
    "exclude_mask = ~df[\"Alamat\"].str.contains(\"Kepulauan\", case=False, na=False)\n",
    "\n",
    "# Gabungkan dua filter\n",
    "filtered_df = df[include_mask & exclude_mask]\n",
    "\n",
    "# Simpan hasilnya\n",
    "filtered_df.to_csv(\"spklu_pulau_sumatera_17.csv\", index=False)\n",
    "\n",
    "print(\"✅ File berhasil disaring (tanpa Kepulauan Riau) dan disimpan.\")\n"
   ]
  },
  {
   "cell_type": "code",
   "execution_count": null,
   "id": "1a4923d3",
   "metadata": {},
   "outputs": [],
   "source": [
    "latest_ts = filtered_df[\"Timestamp\"].max()\n",
    "\n",
    "# Ambil semua baris dengan Timestamp tersebut\n",
    "latest_data = filtered_df[filtered_df[\"Timestamp\"] == latest_ts]\n",
    "\n",
    "# Tampilkan hasil (atau bisa disimpan ke file CSV)\n",
    "print(latest_data)"
   ]
  },
  {
   "cell_type": "code",
   "execution_count": null,
   "id": "02a94d00",
   "metadata": {},
   "outputs": [],
   "source": [
    "earliest_ts = filtered_df[\"Timestamp\"].min()\n",
    "\n",
    "# Ambil semua baris dengan Timestamp tersebut\n",
    "earliest_data = filtered_df[filtered_df[\"Timestamp\"] == earliest_ts]\n",
    "\n",
    "# Tampilkan hasil (atau bisa disimpan ke file CSV)\n",
    "print(earliest_data)"
   ]
  }
 ],
 "metadata": {
  "kernelspec": {
   "display_name": "Python 3",
   "language": "python",
   "name": "python3"
  },
  "language_info": {
   "name": "python",
   "version": "3.11.4"
  }
 },
 "nbformat": 4,
 "nbformat_minor": 5
}
